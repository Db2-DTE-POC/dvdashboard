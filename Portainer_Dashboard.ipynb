{
 "cells": [
  {
   "cell_type": "markdown",
   "metadata": {},
   "source": [
    "# Portainer and Dashboard Startup\n",
    "## Portainer Dashboard\n",
    "If you are using the Dashboard (Tipboard) server, you may need to start it before demonstrating the feature. The Dashboard and Uptime services have been designed to start when Docker is initialized on the system so you will only need to use this notebook in the event that the services are not responding.\n",
    "\n",
    "* The Dashboard server (graph display) runs on port **7272**.\n",
    "\n",
    "* The Uptime server (server status) runs on port **7273**.\n",
    "\n",
    "Portainer is a Docker management service that runs within Docker itself and can be used to start up the Tipboard server. The first step is to open up the console by clicking on the following link\n",
    "[Portainer Console](http://localhost:9000). \n",
    "\n",
    "The console will display a screen similar to the following (if you have not logged on before)."
   ]
  },
  {
   "cell_type": "markdown",
   "metadata": {},
   "source": [
    "![Portainer](./media/portainer_logon.png)"
   ]
  },
  {
   "cell_type": "markdown",
   "metadata": {},
   "source": [
    "The administration userid is **admin** and the password is **password**.\n",
    "\n",
    "After you are authenticated, the main Portainer screen will display:\n",
    "\n",
    "![Portainer Main](./media/portainer_main.png)"
   ]
  },
  {
   "cell_type": "markdown",
   "metadata": {},
   "source": [
    "We are working on the local machine so click on the local (Whale) icon to display a summary of the Docker environment.\n",
    "\n",
    "![Portainer Dashboard](./media/portainer_dashboard.png)\n",
    "\n"
   ]
  },
  {
   "cell_type": "markdown",
   "metadata": {},
   "source": [
    "Clicking on the Containers box will display the currently running containers.\n",
    "\n",
    "![Portainer Containers](./media/portainer_containers.png)"
   ]
  },
  {
   "cell_type": "markdown",
   "metadata": {},
   "source": [
    "If the **tipboard** or **uptime** container is in the **stopped** state, then you must **start** it before running the demo. To start the tipboard service, select the tipboard service first:\n",
    "![Tipboard selected](./media/tipboard_selected.png)"
   ]
  },
  {
   "cell_type": "markdown",
   "metadata": {},
   "source": [
    "Next press the **Start** button to have the container begin deploying and start executing.\n",
    "\n",
    "![Container Start](./media/container_start.png)"
   ]
  },
  {
   "cell_type": "markdown",
   "metadata": {},
   "source": [
    "If everything starts correctly you should see the **tipboard** service turn green.\n",
    "\n",
    "![Tipboard Started](./media/tipboard_running.png)"
   ]
  },
  {
   "cell_type": "markdown",
   "metadata": {},
   "source": [
    "At this point you can continue to run the remainder of the notebooks in this image. The Portainer tab can be closed if you want."
   ]
  }
 ],
 "metadata": {
  "kernelspec": {
   "display_name": "Python 3",
   "language": "python",
   "name": "python3"
  },
  "language_info": {
   "codemirror_mode": {
    "name": "ipython",
    "version": 3
   },
   "file_extension": ".py",
   "mimetype": "text/x-python",
   "name": "python",
   "nbconvert_exporter": "python",
   "pygments_lexer": "ipython3",
   "version": "3.7.4"
  }
 },
 "nbformat": 4,
 "nbformat_minor": 2
}
