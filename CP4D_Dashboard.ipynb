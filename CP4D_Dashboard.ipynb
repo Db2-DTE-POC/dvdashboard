{
 "cells": [
  {
   "cell_type": "markdown",
   "metadata": {},
   "source": [
    "# Cloud Pak for Data Dashboard\n",
    "This notebook will connect to a CP4D cluster and publish the information to a Dashboard."
   ]
  },
  {
   "cell_type": "code",
   "execution_count": null,
   "metadata": {},
   "outputs": [],
   "source": [
    "%run db2.ipynb\n",
    "%run connection.ipynb"
   ]
  },
  {
   "cell_type": "markdown",
   "metadata": {},
   "source": [
    "### Add Dashboard Extensions"
   ]
  },
  {
   "cell_type": "code",
   "execution_count": null,
   "metadata": {},
   "outputs": [],
   "source": [
    "%run dashboard.ipynb"
   ]
  },
  {
   "cell_type": "markdown",
   "metadata": {},
   "source": [
    "The dashboard notebook contains a number of functions that provide RESTful services to a Dashboard service. This dashboard service runs on port 7272 and communicates through RESTful API calls. The functions that are provided in the dashboard notebook includes:\n",
    "\n",
    "**Publishing functions**\n",
    "- publishPie - cell, title, data\n",
    "- publishBar - cell, title, description, ticks, data\n",
    "- publishLine - cell, title, description, data [,trend=False]\n",
    "- publishText - cell, title, description, bigvalue, (label1/value1 ... label4/value4)\n",
    "- publishListing - cell, [labels], [text], [description] (up to 9 items)\n",
    "\n",
    "**Cells Available for Updating**\n",
    "- stock_info - Text\n",
    "- stock_ytd - Line\n",
    "- stock_purchase - Listing\n",
    "- top_stocks - Pie\n",
    "- stock_30day - Line"
   ]
  },
  {
   "cell_type": "markdown",
   "metadata": {},
   "source": [
    "The Dashboard can run locally on this image (port 7272) or it can run against a remote server. The next cell is set to have the Dashboard run locally, so you must make sure that the service has been properly started (see the notebook on Portainer and starting the dashboard service). The other URL that is provided here is for an AWS server that has been set up to provide this Dashboard service. If you want to use that one then uncomment that line."
   ]
  },
  {
   "cell_type": "code",
   "execution_count": null,
   "metadata": {},
   "outputs": [],
   "source": [
    "seturl('http://localhost:7272')"
   ]
  },
  {
   "cell_type": "markdown",
   "metadata": {},
   "source": [
    "### Select a Stock Symbol from the following list\n",
    "Select one main stock and two others to compare against that are currently available from the following list."
   ]
  },
  {
   "cell_type": "code",
   "execution_count": null,
   "metadata": {},
   "outputs": [],
   "source": [
    "%%sql -grid\n",
    "WITH SYMBOLS(SYMBOL,NAME) AS (\n",
    "  SELECT TRIM(SYMBOL), TRIM(COMPANY) FROM DVDEMO.STOCK_SYMBOLS\n",
    ")\n",
    "SELECT H.SYMBOL, S.NAME, COUNT(*) FROM FOLDING.STOCK_HISTORY H, SYMBOLS S\n",
    "WHERE H.SYMBOL = S.SYMBOL\n",
    "GROUP BY H.SYMBOL, S.NAME"
   ]
  },
  {
   "cell_type": "markdown",
   "metadata": {},
   "source": [
    "Before updating the Dashboard, click on the following link to open up a separate browser window.\n",
    "\n",
    "[Dashboard](http://localhost:7272)"
   ]
  },
  {
   "cell_type": "markdown",
   "metadata": {},
   "source": [
    "The following code will generate the calls necessary to publish information to the Dashboard service."
   ]
  },
  {
   "cell_type": "code",
   "execution_count": null,
   "metadata": {},
   "outputs": [],
   "source": [
    "def publish_dashboard(stock1_in, stock2_in, stock3_in, stock_name_in):\n",
    "    \n",
    "    stock1 = stock1_in\n",
    "    stock2 = stock2_in\n",
    "    stock3 = stock3_in\n",
    "    weeks = [25, 45]\n",
    "    stock_name = stock_name_in\n",
    "    \n",
    "    # Step 2: Get the open price of the stock and the volume for the first record found\n",
    "    stock_values = %sql SELECT OPEN, CLOSE, VOLUME FROM FOLDING.STOCK_HISTORY \\\n",
    "                        WHERE SYMBOL = :stock1 FETCH FIRST ROW ONLY\n",
    "    stock_open = str(stock_values['OPEN'][0])\n",
    "    stock_current = str(stock_values['CLOSE'][0])\n",
    "    stock_volume = int(stock_values['VOLUME'][0])\n",
    "\n",
    "    # Step 3: Publish the information into cell STOCK_INFO\n",
    "    publishText('stock_info',stock1,stock_name,stock_current,'Open',stock_open,'Volume',stock_volume)\n",
    "\n",
    "    # Step 4: Get the YTD stock values on a weekly basis\n",
    "    sql = '''\n",
    "    WITH WEEKLY(SYMBOL, WEEKNO, VALUE) AS (\n",
    "       SELECT SYMBOL, WEEK(TX_DATE), DEC(AVG(OPEN),9,2)\n",
    "         FROM FOLDING.STOCK_HISTORY\n",
    "         WHERE SYMBOL IN (:stock1, :stock2, :stock3) \n",
    "               AND TX_DATE != '2017-12-01' \n",
    "               AND WEEK(TX_DATE) BETWEEN :weeks[0] AND :weeks[1]\n",
    "         GROUP BY SYMBOL, WEEK(TX_DATE)\n",
    "    )\n",
    "    SELECT * FROM WEEKLY \n",
    "    ORDER BY SYMBOL, WEEKNO\n",
    "    '''\n",
    "    data = %sql -array {sql}\n",
    "\n",
    "    stock1_volume = []\n",
    "    stock2_volume = []\n",
    "    stock3_volume = []\n",
    "    for row in data[1:]:\n",
    "        if (row[0] == stock1): stock1_volume.append([row[1],row[2]])\n",
    "        if (row[0] == stock2): stock2_volume.append([row[1],row[2]])\n",
    "        if (row[0] == stock3): stock3_volume.append([row[1],row[2]])\n",
    "\n",
    "\n",
    "    # Step 5: Publish the data into the cell STOCK_YTD\n",
    "    publishLine('stock_ytd','{0} vs {1} vs {2}'.format(stock1,stock2,stock3),'Stock Price Average Last 20 Weeks', \n",
    "                [stock1,stock2,stock3],[stock1_volume, stock2_volume, stock3_volume])\n",
    "\n",
    "    # Step 6: Top Purchase/Sell of Stock today \n",
    "    \n",
    "    sql = '''\n",
    "    WITH\n",
    "    TX_DAY(TX_DATE) AS (\n",
    "      VALUES NEXT_DAY(DATE('2018-01-01') + INT(RAND()*350) DAYS, 'Thursday')\n",
    "    ),\n",
    "    PURCHASED(CUSTID,AMOUNT) AS (\n",
    "      SELECT CUSTID, SUM(QUANTITY) AS AMOUNT\n",
    "        FROM FOLDING.STOCK_TRANSACTIONS_DV ST, TX_DAY TX\n",
    "      WHERE ST.TX_DATE = TX.TX_DATE \n",
    "      GROUP BY CUSTID\n",
    "    )\n",
    "    SELECT C.LASTNAME, C.CITY, C.STATE, P.AMOUNT\n",
    "      FROM PURCHASED P, TRADING.CUSTOMERS C\n",
    "      WHERE C.CUSTID = P.CUSTID\n",
    "    ORDER BY ABS(P.AMOUNT) DESC\n",
    "    FETCH FIRST 9 ROWS ONLY \n",
    "    '''\n",
    "    data = %sql -array {sql}\n",
    "    customer = []\n",
    "    purchase = []\n",
    "    location = []\n",
    "    color    = []\n",
    "    \n",
    "    row_count = 0\n",
    "    for row in data[1:]:\n",
    "        row_count = row_count + 1\n",
    "        customer.append(row[0])\n",
    "        \n",
    "        if (int(row[3]) < 0):\n",
    "            color.append(\"red\")\n",
    "        else:\n",
    "            color.append(\"green\")\n",
    "            \n",
    "        purchase.append(row[3])\n",
    "        location.append(\"{0}, {1}\".format(row[1],row[2]))\n",
    "    \n",
    "    if (row_count == 0): # No data found\n",
    "        customer.append(\"No stock trades completed\")\n",
    "        color.append(\"blue\")\n",
    "        location.append(\"\")\n",
    "    \n",
    "    # Step 7: Publish the result to the cell STOCK_COMPARE    \n",
    "    publishListing('stock_purchase',purchase,color,customer,location)\n",
    "\n",
    "    # Step 8: Compare the stocks by capitalization\n",
    "\n",
    "    sql = '''\n",
    "    WITH WEEK45(SYMBOL, PURCHASES) AS (\n",
    "      SELECT SYMBOL, SUM(VOLUME * CLOSE) FROM FOLDING.STOCK_HISTORY\n",
    "        WHERE WEEK(TX_DATE) =  45 AND SYMBOL IN (:stock1, :stock2, :stock3)\n",
    "      GROUP BY SYMBOL\n",
    "    )\n",
    "    SELECT SYMBOL, PURCHASES FROM WEEK45\n",
    "    ORDER BY SYMBOL, PURCHASES\n",
    "    '''\n",
    "\n",
    "    data = %sql -array {sql}\n",
    "\n",
    "    # Step 9: Publish the result to the cell TOP_STOCKS   \n",
    "\n",
    "    publishPie('top_stocks','Stock Capitalization',data[1:])\n",
    "\n",
    "    # Step 10: 30 Day Moving Average with trend line\n",
    "\n",
    "    sql = '''\n",
    "    WITH MOVAVG(WEEKNO, OPEN, MOVING) AS (\n",
    "       SELECT WEEK(TX_DATE) AS WEEK, OPEN, \n",
    "         AVG(OPEN) OVER (\n",
    "           ORDER BY TX_DATE\n",
    "         ROWS BETWEEN 15 PRECEDING AND 15 FOLLOWING) AS MOVING_AVG\n",
    "      FROM FOLDING.STOCK_HISTORY\n",
    "         WHERE SYMBOL = :stock1\n",
    "      ORDER BY WEEK(TX_DATE)\n",
    "    )\n",
    "    SELECT WEEKNO, DEC(AVG(OPEN),9,2), DEC(AVG(MOVING),9,2) FROM MOVAVG\n",
    "      WHERE WEEKNO BETWEEN 10 AND 20\n",
    "    GROUP BY WEEKNO\n",
    "    ORDER BY WEEKNO\n",
    "    '''\n",
    "    data = %sql -array {sql}\n",
    "\n",
    "    stock1_volume = []\n",
    "    stock2_volume = []\n",
    "    for row in data[1:]:\n",
    "        stock1_volume.append([row[0],row[1]])\n",
    "        stock2_volume.append([row[0],row[2]])\n",
    "    \n",
    "    # Step 11: Publish the trend line to STOCK_30DAY\n",
    "    \n",
    "    publishLine('stock_30day',stock1,'30-day Moving Average',['Base','Trend'],[stock1_volume,stock2_volume])\n",
    "    print(\"Published to Dashboard\")"
   ]
  },
  {
   "cell_type": "markdown",
   "metadata": {},
   "source": [
    "Select a group of Stock symbols to compare."
   ]
  },
  {
   "cell_type": "code",
   "execution_count": null,
   "metadata": {},
   "outputs": [],
   "source": [
    "stock1 = 'INTC'\n",
    "stock2 = 'AAPL'\n",
    "stock3 = 'MSFT'\n",
    "weeks = [ 25, 45 ]"
   ]
  },
  {
   "cell_type": "markdown",
   "metadata": {},
   "source": [
    "Click on the following link to publish the data to the Dashboard service."
   ]
  },
  {
   "cell_type": "code",
   "execution_count": null,
   "metadata": {},
   "outputs": [],
   "source": [
    "publish_dashboard(stock1, stock2, stock3, \"Intel Corporation\")"
   ]
  }
 ],
 "metadata": {
  "kernelspec": {
   "display_name": "Python 3",
   "language": "python",
   "name": "python3"
  },
  "language_info": {
   "codemirror_mode": {
    "name": "ipython",
    "version": 3
   },
   "file_extension": ".py",
   "mimetype": "text/x-python",
   "name": "python",
   "nbconvert_exporter": "python",
   "pygments_lexer": "ipython3",
   "version": "3.7.4"
  }
 },
 "nbformat": 4,
 "nbformat_minor": 2
}
