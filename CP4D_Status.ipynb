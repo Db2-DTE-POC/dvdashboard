{
 "cells": [
  {
   "cell_type": "markdown",
   "metadata": {},
   "source": [
    "# Cloud Pak for Data Dashboard - Server Status\n",
    "This notebook can be used to update the server status display.\n",
    "\n",
    "**Note:** The regular dashboard service uses port 7272, while this one uses 7273. Both dashboards use identical API calls but the objects (tiles) that they refer to are different. Make sure you use port 7273 to update the proper display."
   ]
  },
  {
   "cell_type": "code",
   "execution_count": 13,
   "metadata": {},
   "outputs": [],
   "source": [
    "%run dashboard.ipynb\n",
    "seturl('http://localhost:7273')"
   ]
  },
  {
   "cell_type": "markdown",
   "metadata": {},
   "source": [
    "There are 8 slots available for status information. Each tile has a name (server1..8) which are spread over two rows on the screen. Server1..4 are on the top row and server5..8 are on the bottom row.\n",
    "\n",
    "The `publishJustValue` function requires 5 arguments:\n",
    "\n",
    "* Tile name - server1 ... server8\n",
    "* Server name - Any string of characters that describe the server\n",
    "* Description - This could be the IP address of the server or any other key information about the service\n",
    "* Status - A string that represents up time or whether the server is down or not\n",
    "* Color - The background color of the status box. If the color is red, then the box will flash.\n",
    "\n",
    "Valid colors are blue, green, red, yellow, white, black, violet, orange, naval, or tile_background. The tile_backgound color blends in with the form so it is the equivalent of no color.\n",
    "\n",
    "If you do not provide a value for a server tile, it will retain the previous value that was supplied. In other words, if you had provided values for servers 1-4, the values 5-8 would remain blank. If you update server 1, the other tiles will still contain the old values. If you want to delete any tiles you must provide blank values to remove them (and a color of tile_background)."
   ]
  },
  {
   "cell_type": "code",
   "execution_count": 17,
   "metadata": {},
   "outputs": [],
   "source": [
    "publishJustValue(\"server1\",\"AWS Db2\",\"52.70.186.131\",\"Up\",\"red\")\n",
    "publishJustValue(\"server2\",\"Azure Db2\",\"23.100.82.91\",\"Up\",\"green\")\n",
    "publishJustValue(\"server3\",\"Azure Postgres\",\"23.100.82.91\",\"Up\",\"green\")\n",
    "publishJustValue(\"server4\",\"MongoDB\",\"10.1.1.12\",\"Down\",\"red\")\n",
    "publishJustValue(\"server5\",\"Informix\",\"10.1.1.12\",\"Up\",\"green\")\n",
    "publishJustValue(\"server6\",\"Db2 Warehouse\",\"10.1.1.12\",\"Up\",\"green\")\n",
    "publishJustValue(\"server7\",\"z/OS\",\"rs01.rocketsoftware.com\",\"Up\",\"green\")\n",
    "publishJustValue(\"server8\",\"Db2 Local\",\"10.1.1.12\",\"unknown\",\"blue\")"
   ]
  }
 ],
 "metadata": {
  "kernelspec": {
   "display_name": "Python 3",
   "language": "python",
   "name": "python3"
  },
  "language_info": {
   "codemirror_mode": {
    "name": "ipython",
    "version": 3
   },
   "file_extension": ".py",
   "mimetype": "text/x-python",
   "name": "python",
   "nbconvert_exporter": "python",
   "pygments_lexer": "ipython3",
   "version": "3.7.4"
  }
 },
 "nbformat": 4,
 "nbformat_minor": 2
}
