{
 "cells": [
  {
   "cell_type": "markdown",
   "metadata": {},
   "source": [
    "# Cloud Pak for Data Virtualization Demonstration\n",
    "This notebook will connect to a CP4D cluster and demonstrate how SQL can be run against a variety of data sources without requiring any knowledge of how these data sources are accessed."
   ]
  },
  {
   "cell_type": "code",
   "execution_count": null,
   "metadata": {
    "hide_input": true
   },
   "outputs": [],
   "source": [
    "%run db2.ipynb\n",
    "%run connection.ipynb"
   ]
  },
  {
   "cell_type": "markdown",
   "metadata": {},
   "source": [
    "## Stock Symbol Table\n",
    "### Get information about the stocks that are in the database\n",
    "**System Z - VSAM**"
   ]
  },
  {
   "cell_type": "code",
   "execution_count": null,
   "metadata": {},
   "outputs": [],
   "source": [
    "%sql -grid SELECT SYMBOL, COMPANY FROM DVDEMO.STOCK_SYMBOLS"
   ]
  },
  {
   "cell_type": "markdown",
   "metadata": {},
   "source": [
    "## Top Buy/Sell By Customer\n",
    "**AWS - Db2 on OpenShift, Azure - Db2 on OpenShift, Azure - Postgres**"
   ]
  },
  {
   "cell_type": "code",
   "execution_count": null,
   "metadata": {},
   "outputs": [],
   "source": [
    "%%sql -grid\n",
    "WITH\n",
    "    TX_DAY(TX_DATE) AS (\n",
    "      VALUES NEXT_DAY(DATE('2018-01-01') + INT(RAND()*350) DAYS, 'Thursday')\n",
    "    ),\n",
    "    PURCHASED(CUSTID,AMOUNT) AS (\n",
    "      SELECT CUSTID, SUM(QUANTITY) AS AMOUNT\n",
    "        FROM FOLDING.STOCK_TRANSACTIONS_DV ST, TX_DAY TX\n",
    "      WHERE ST.TX_DATE = TX.TX_DATE \n",
    "      GROUP BY CUSTID\n",
    "    )\n",
    "    SELECT C.LASTNAME, C.CITY, C.STATE, P.AMOUNT\n",
    "      FROM PURCHASED P, TRADING.CUSTOMERS C\n",
    "      WHERE C.CUSTID = P.CUSTID\n",
    "    ORDER BY ABS(P.AMOUNT) DESC\n",
    "    FETCH FIRST 9 ROWS ONLY "
   ]
  },
  {
   "cell_type": "markdown",
   "metadata": {},
   "source": [
    "## Customers\n",
    "**VMware - MongoDB**"
   ]
  },
  {
   "cell_type": "code",
   "execution_count": null,
   "metadata": {},
   "outputs": [],
   "source": [
    "%%sql -grid\n",
    "SELECT * FROM TRADING.CUSTOMERS"
   ]
  }
 ],
 "metadata": {
  "kernelspec": {
   "display_name": "Python 3",
   "language": "python",
   "name": "python3"
  },
  "language_info": {
   "codemirror_mode": {
    "name": "ipython",
    "version": 3
   },
   "file_extension": ".py",
   "mimetype": "text/x-python",
   "name": "python",
   "nbconvert_exporter": "python",
   "pygments_lexer": "ipython3",
   "version": "3.7.4"
  }
 },
 "nbformat": 4,
 "nbformat_minor": 2
}
