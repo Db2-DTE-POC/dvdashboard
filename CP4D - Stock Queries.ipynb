{
 "cells": [
  {
   "cell_type": "markdown",
   "metadata": {},
   "source": [
    "# Cloud Pak for Data Virtualization Demonstration\n",
    "This notebook will connect to a CP4D cluster and demonstrate how SQL can be run against a variety of data sources without requiring any knowledge of how these data sources are accessed.\n",
    "\n",
    "The first step is to load the Db2 extensions that allow us to run Db2 commands directly against CP4D."
   ]
  },
  {
   "cell_type": "code",
   "execution_count": null,
   "metadata": {},
   "outputs": [],
   "source": [
    "%run db2.ipynb"
   ]
  },
  {
   "cell_type": "markdown",
   "metadata": {},
   "source": [
    "A connection to the database is required before we can run any SQL statements. Run the following statement to connect to the Cloud Pak for Data cluster. **Note:** If you need to change the connection information, edit the Connection document which is found in the table of contents."
   ]
  },
  {
   "cell_type": "code",
   "execution_count": null,
   "metadata": {},
   "outputs": [],
   "source": [
    "%run connection.ipynb"
   ]
  },
  {
   "cell_type": "markdown",
   "metadata": {},
   "source": [
    "## Stock Symbol Table\n",
    "### Get information about the stocks that are in the database\n",
    "**System Z - VSAM**"
   ]
  },
  {
   "cell_type": "code",
   "execution_count": null,
   "metadata": {},
   "outputs": [],
   "source": [
    "%sql -grid select * from DVDEMO.STOCK_SYMBOLS"
   ]
  },
  {
   "cell_type": "markdown",
   "metadata": {},
   "source": [
    "## Top Buy/Sell By Customer (All Stocks)\n",
    "**AWS - Db2, Azure - Db2 & Postgres, VMware - MongoDB**"
   ]
  },
  {
   "cell_type": "code",
   "execution_count": null,
   "metadata": {},
   "outputs": [],
   "source": [
    "%%sql -grid\n",
    "WITH\n",
    "    TX_DAY(TX_DATE) AS (\n",
    "      VALUES NEXT_DAY(DATE('2018-01-01') + INT(RAND()*350) DAYS, 'Thursday')\n",
    "    ),\n",
    "    PURCHASED(CUSTID,AMOUNT) AS (\n",
    "      SELECT CUSTID, SUM(QUANTITY) AS AMOUNT\n",
    "        FROM FOLDING.STOCK_TRANSACTIONS_DV ST, TX_DAY TX\n",
    "      WHERE ST.TX_DATE = TX.TX_DATE\n",
    "      GROUP BY CUSTID\n",
    "    )\n",
    "    SELECT C.LASTNAME, C.CITY, C.STATE, P.AMOUNT\n",
    "      FROM PURCHASED P, TRADING.CUSTOMERS C\n",
    "      WHERE C.CUSTID = P.CUSTID\n",
    "    ORDER BY ABS(P.AMOUNT) DESC\n",
    "    FETCH FIRST 9 ROWS ONLY "
   ]
  },
  {
   "cell_type": "markdown",
   "metadata": {},
   "source": [
    "## Stock History Table\n",
    "### Get Price of a Stock over the Year\n",
    "Set the Stock Symbol in the line below.\n",
    "\n",
    "**CP4D - Db2, VMware - Informix**"
   ]
  },
  {
   "cell_type": "code",
   "execution_count": null,
   "metadata": {},
   "outputs": [],
   "source": [
    "stock = 'INTC'"
   ]
  },
  {
   "cell_type": "code",
   "execution_count": null,
   "metadata": {
    "scrolled": true
   },
   "outputs": [],
   "source": [
    "%%sql -pl\n",
    "SELECT WEEK(TX_DATE) AS WEEK, OPEN FROM FOLDING.STOCK_HISTORY\n",
    "WHERE SYMBOL = :stock AND TX_DATE != '2017-12-01'\n",
    "ORDER BY WEEK(TX_DATE) ASC"
   ]
  },
  {
   "cell_type": "markdown",
   "metadata": {},
   "source": [
    "### Trend of Three Stocks\n",
    "This chart shows three stock prices over the course of a year.\n",
    "\n",
    "**CP4D - Db2, VMware - Informix**"
   ]
  },
  {
   "cell_type": "code",
   "execution_count": null,
   "metadata": {},
   "outputs": [],
   "source": [
    "stocks = ['INTC','MSFT','AAPL']"
   ]
  },
  {
   "cell_type": "code",
   "execution_count": null,
   "metadata": {},
   "outputs": [],
   "source": [
    "%%sql -pl\n",
    "SELECT SYMBOL, WEEK(TX_DATE), OPEN FROM FOLDING.STOCK_HISTORY\n",
    "WHERE SYMBOL IN (:stocks) AND TX_DATE != '2017-12-01'\n",
    "ORDER BY WEEK(TX_DATE) ASC"
   ]
  },
  {
   "cell_type": "markdown",
   "metadata": {},
   "source": [
    "### 30 Day Moving Average of a Stock\n",
    "Enter the Stock Symbol below.\n",
    "\n",
    "**CP4D - Db2, VMware -  Informix**"
   ]
  },
  {
   "cell_type": "code",
   "execution_count": null,
   "metadata": {},
   "outputs": [],
   "source": [
    "stock = 'AAPL'"
   ]
  },
  {
   "cell_type": "code",
   "execution_count": null,
   "metadata": {},
   "outputs": [],
   "source": [
    "sqlin = \\\n",
    "\"\"\"\n",
    "SELECT WEEK(TX_DATE) AS WEEK, OPEN, \n",
    "     AVG(OPEN) OVER (\n",
    "       ORDER BY TX_DATE\n",
    "     ROWS BETWEEN 15 PRECEDING AND 15 FOLLOWING) AS MOVING_AVG\n",
    "  FROM FOLDING.STOCK_HISTORY\n",
    "     WHERE SYMBOL = :stock\n",
    "  ORDER BY WEEK(TX_DATE)\n",
    "\"\"\"\n",
    "df = %sql {sqlin}\n",
    "txdate= df['WEEK']\n",
    "sales = df['OPEN']\n",
    "avg = df['MOVING_AVG']\n",
    "\n",
    "plt.xlabel(\"Day\", fontsize=12);\n",
    "plt.ylabel(\"Opening Price\", fontsize=12);\n",
    "plt.suptitle(\"Opening Price and Moving Average of \" + stock, fontsize=20);\n",
    "plt.plot(txdate, sales, 'r');\n",
    "plt.plot(txdate, avg, 'b');\n",
    "plt.show();"
   ]
  },
  {
   "cell_type": "markdown",
   "metadata": {},
   "source": [
    "### Trading volume of INTC versus MSFT and AAPL in first week of November\n",
    "**CP4D - Db2, VMware - Informix**"
   ]
  },
  {
   "cell_type": "code",
   "execution_count": null,
   "metadata": {},
   "outputs": [],
   "source": [
    "stocks = ['INTC','MSFT','AAPL']"
   ]
  },
  {
   "cell_type": "code",
   "execution_count": null,
   "metadata": {},
   "outputs": [],
   "source": [
    "%%sql -pb\n",
    "SELECT SYMBOL, DAY(TX_DATE), VOLUME/1000000 FROM FOLDING.STOCK_HISTORY\n",
    "WHERE SYMBOL IN (:stocks) AND WEEK(TX_DATE) =  45\n",
    "ORDER BY DAY(TX_DATE) ASC"
   ]
  },
  {
   "cell_type": "markdown",
   "metadata": {},
   "source": [
    "### Show Stocks that Represent at least 3% of the Total Purchases during Week 45\n",
    "**CP4D - Db2, VMware -  Informix**"
   ]
  },
  {
   "cell_type": "code",
   "execution_count": null,
   "metadata": {},
   "outputs": [],
   "source": [
    "%%sql -pie\n",
    "WITH WEEK45(SYMBOL, PURCHASES) AS (\n",
    "  SELECT SYMBOL, SUM(VOLUME * CLOSE) FROM FOLDING.STOCK_HISTORY\n",
    "    WHERE WEEK(TX_DATE) =  45 AND SYMBOL <> 'DJIA'\n",
    "  GROUP BY SYMBOL\n",
    "),\n",
    "ALL45(TOTAL) AS (\n",
    "  SELECT SUM(PURCHASES) * .03 FROM WEEK45\n",
    ")\n",
    "SELECT SYMBOL, PURCHASES FROM WEEK45, ALL45\n",
    "WHERE PURCHASES > TOTAL\n",
    "ORDER BY SYMBOL, PURCHASES"
   ]
  },
  {
   "cell_type": "markdown",
   "metadata": {},
   "source": [
    "## Stock Transaction Table\n",
    "### Show Top Transaction Count by Customer\n",
    "**AWS - Db2, Azure - Db2 & Postgres**"
   ]
  },
  {
   "cell_type": "code",
   "execution_count": null,
   "metadata": {},
   "outputs": [],
   "source": [
    "%%sql\n",
    "SELECT CUSTID, COUNT(*) FROM FOLDING.STOCK_TRANSACTIONS_DV\n",
    "GROUP BY CUSTID\n",
    "ORDER BY 2 DESC FETCH FIRST 10 ROWS ONLY"
   ]
  },
  {
   "cell_type": "markdown",
   "metadata": {},
   "source": [
    "### Bought/Sold Amounts of Top 5 stocks \n",
    "**AWS - Db2, Azure - Db2, Postgres**"
   ]
  },
  {
   "cell_type": "code",
   "execution_count": null,
   "metadata": {},
   "outputs": [],
   "source": [
    "%%sql\n",
    "WITH BOUGHT(SYMBOL, AMOUNT) AS\n",
    "  (\n",
    "  SELECT SYMBOL, SUM(QUANTITY) FROM FOLDING.STOCK_TRANSACTIONS_DV\n",
    "  WHERE QUANTITY > 0\n",
    "  GROUP BY SYMBOL\n",
    "  ),\n",
    "SOLD(SYMBOL, AMOUNT) AS\n",
    "  (\n",
    "  SELECT SYMBOL, -SUM(QUANTITY) FROM FOLDING.STOCK_TRANSACTIONS_DV\n",
    "  WHERE QUANTITY < 0\n",
    "  GROUP BY SYMBOL\n",
    "  )\n",
    "SELECT B.SYMBOL, B.AMOUNT AS BOUGHT, S.AMOUNT AS SOLD\n",
    "FROM BOUGHT B, SOLD S\n",
    "WHERE B.SYMBOL = S.SYMBOL\n",
    "ORDER BY B.AMOUNT DESC\n",
    "FETCH FIRST 5 ROWS ONLY"
   ]
  },
  {
   "cell_type": "markdown",
   "metadata": {},
   "source": [
    "## Customer Accounts\n",
    "### Show Top 5 Customer Balance\n",
    "**AWS - Db2, Azure - Db2, Postgres**"
   ]
  },
  {
   "cell_type": "code",
   "execution_count": null,
   "metadata": {
    "scrolled": true
   },
   "outputs": [],
   "source": [
    "%%sql\n",
    "SELECT CUSTID, BALANCE FROM FOLDING.ACCOUNTS_DV\n",
    "ORDER BY BALANCE DESC\n",
    "FETCH FIRST 5 ROWS ONLY"
   ]
  },
  {
   "cell_type": "markdown",
   "metadata": {},
   "source": [
    "### Show Bottom 5 Customer Balance\n",
    "**AWS - Db2, Azure - Db2, Postgres**"
   ]
  },
  {
   "cell_type": "code",
   "execution_count": null,
   "metadata": {},
   "outputs": [],
   "source": [
    "%%sql\n",
    "SELECT CUSTID, BALANCE FROM FOLDING.ACCOUNTS_DV\n",
    "ORDER BY BALANCE ASC\n",
    "FETCH FIRST 5 ROWS ONLY"
   ]
  },
  {
   "cell_type": "markdown",
   "metadata": {},
   "source": [
    "## Selecting Customer Information from MongoDB\n",
    "The MongoDB database has customer information in a document format. In order to materialize the document data as relational tables, a total of four virtual tables are generated. The following query shows the tables that are generated for the Customer document collection."
   ]
  },
  {
   "cell_type": "code",
   "execution_count": null,
   "metadata": {},
   "outputs": [],
   "source": [
    "%sql LIST TABLES FOR SCHEMA MONGO_ONPREM"
   ]
  },
  {
   "cell_type": "markdown",
   "metadata": {},
   "source": [
    "The tables are all connected through the CUSTOMERID field, which is based on the generated `_id` of the main CUSTOMER colllection. In order to reassemble these tables into a document, we must join them using this unique identifier. An example of the contents of the CUSTOMER_CONTACT table is shown below."
   ]
  },
  {
   "cell_type": "code",
   "execution_count": null,
   "metadata": {},
   "outputs": [],
   "source": [
    "%sql -grid SELECT * FROM MONGO_ONPREM.CUSTOMER_CONTACT FETCH FIRST 5 ROWS ONLY"
   ]
  },
  {
   "cell_type": "markdown",
   "metadata": {},
   "source": [
    "A full document record is shown in the following SQL statement which joins all of the tables together."
   ]
  },
  {
   "cell_type": "code",
   "execution_count": null,
   "metadata": {},
   "outputs": [],
   "source": [
    "%%sql -grid\n",
    "SELECT C.CUSTOMERID AS CUSTID, \n",
    "       CI.FIRSTNAME, CI.LASTNAME, CI.BIRTHDATE,\n",
    "       CC.CITY, CC.ZIPCODE, CC.EMAIL, CC.PHONE, CC.STREET, CC.STATE,\n",
    "       CP.CARD_TYPE, CP.CARD_NO\n",
    "FROM MONGO_ONPREM.CUSTOMER C, MONGO_ONPREM.CUSTOMER_CONTACT CC, \n",
    "     MONGO_ONPREM.CUSTOMER_IDENTITY CI, MONGO_ONPREM.CUSTOMER_PAYMENT CP\n",
    "WHERE  CC.CUSTOMER_ID = C.\"_ID\" AND\n",
    "       CI.CUSTOMER_ID = C.\"_ID\" AND\n",
    "       CP.CUSTOMER_ID = C.\"_ID\"\n",
    "FETCH FIRST 3 ROWS ONLY"
   ]
  },
  {
   "cell_type": "markdown",
   "metadata": {},
   "source": [
    "## Querying All Virtualized Data\n",
    "### What are the names of the customers in Ohio, who bought the most during the highest trading day of the year.\n",
    "**AWS Db2, Azure Db2 & Postgres, VMware MongoDB, CP4D Db2Wh, VMware Informix**"
   ]
  },
  {
   "cell_type": "code",
   "execution_count": null,
   "metadata": {},
   "outputs": [],
   "source": [
    "%%sql\n",
    "WITH MAX_VOLUME(AMOUNT) AS (\n",
    "  SELECT MAX(VOLUME) FROM FOLDING.STOCK_HISTORY\n",
    "    WHERE SYMBOL = 'DJIA'\n",
    "),\n",
    "HIGHDATE(TX_DATE) AS (\n",
    "  SELECT TX_DATE FROM FOLDING.STOCK_HISTORY, MAX_VOLUME M\n",
    "    WHERE SYMBOL = 'DJIA' AND VOLUME = M.AMOUNT\n",
    "),\n",
    "CUSTOMERS_IN_OHIO(CUSTID) AS (\n",
    "  SELECT C.CUSTID FROM TRADING.CUSTOMERS C \n",
    "    WHERE C.STATE = 'OH'\n",
    "),\n",
    "TOTAL_BUY(CUSTID,TOTAL) AS (\n",
    "  SELECT C.CUSTID, SUM(SH.QUANTITY * SH.PRICE) \n",
    "    FROM CUSTOMERS_IN_OHIO C, FOLDING.STOCK_TRANSACTIONS_DV SH, HIGHDATE HD\n",
    "  WHERE SH.CUSTID = C.CUSTID AND\n",
    "        SH.TX_DATE = HD.TX_DATE AND \n",
    "        QUANTITY > 0 \n",
    "  GROUP BY C.CUSTID\n",
    ")\n",
    "SELECT LASTNAME, T.TOTAL \n",
    "  FROM TRADING.CUSTOMERS C, TOTAL_BUY T\n",
    "WHERE C.CUSTID = T.CUSTID\n",
    "ORDER BY TOTAL DESC\n",
    "FETCH FIRST 5 ROWS ONLY"
   ]
  }
 ],
 "metadata": {
  "kernelspec": {
   "display_name": "Python 3",
   "language": "python",
   "name": "python3"
  },
  "language_info": {
   "codemirror_mode": {
    "name": "ipython",
    "version": 3
   },
   "file_extension": ".py",
   "mimetype": "text/x-python",
   "name": "python",
   "nbconvert_exporter": "python",
   "pygments_lexer": "ipython3",
   "version": "3.7.4"
  }
 },
 "nbformat": 4,
 "nbformat_minor": 2
}
